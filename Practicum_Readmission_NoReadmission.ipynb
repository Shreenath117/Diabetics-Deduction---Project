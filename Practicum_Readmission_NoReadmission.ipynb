{
 "cells": [
  {
   "cell_type": "markdown",
   "metadata": {},
   "source": [
    "# Project 2: Diabetes Readmission Prediction"
   ]
  },
  {
   "cell_type": "markdown",
   "metadata": {},
   "source": [
    "Data Set Information:\n",
    "Source : https://archive.ics.uci.edu/ml/datasets/Diabetes+130-US+hospitals+for+years+1999-2008\n",
    "The dataset represents 10 years (1999-2008) of clinical care at 130 US hospitals and integrated delivery networks. It includes over 50 features representing patient and hospital outcomes. Information was extracted from the database for encounters that satisfied the following criteria.\n",
    "(1)\tIt is an inpatient encounter (a hospital admission).\n",
    "(2)\tIt is a diabetic encounter, that is, one during which any kind of diabetes was entered to the system as a diagnosis.\n",
    "(3)\tThe length of stay was at least 1 day and at most 14 days.\n",
    "(4)\tLaboratory tests were performed during the encounter.\n",
    "(5)\tMedications were administered during the encounter.\n",
    "The data contains such attributes as patient number, race, gender, age, admission type, time in hospital, medical specialty of admitting physician, number of lab test performed, HbA1c test result, diagnosis, number of medication, diabetic medications, number of outpatient, inpatient, and emergency visits in the year before the hospitalization, etc."
   ]
  },
  {
   "cell_type": "markdown",
   "metadata": {},
   "source": [
    "Objective:\n",
    "In this project, we will build a model predicting readmission for patients with diabetes. \n",
    "The steps we have gone through are:\n",
    "1) Data exploration and Data cleaning\n",
    "2) Building Training/Validation/Test samples\n",
    "3) Model selection\n",
    "4) Model evaluation"
   ]
  },
  {
   "cell_type": "markdown",
   "metadata": {},
   "source": [
    "# Loading the required libraries required for data analysis"
   ]
  },
  {
   "cell_type": "code",
   "execution_count": 130,
   "metadata": {},
   "outputs": [],
   "source": [
    "import pandas as pd\n",
    "import numpy as np\n",
    "from matplotlib import pyplot as plt\n",
    "import matplotlib\n",
    "matplotlib.style.use('ggplot')\n",
    "from scipy.stats import norm\n",
    "import seaborn as sns\n",
    "from sklearn.preprocessing import StandardScaler\n",
    "import missingno as msno\n",
    "import warnings\n",
    "warnings.filterwarnings('ignore')\n",
    "%matplotlib inline\n",
    "from matplotlib.ticker import StrMethodFormatter\n",
    "from matplotlib.legend_handler import HandlerLine2D"
   ]
  },
  {
   "cell_type": "code",
   "execution_count": 131,
   "metadata": {},
   "outputs": [],
   "source": [
    "\n",
    "# Major libraries\n",
    "import scipy\n",
    "import bottleneck # for speeding up pandas operations\n",
    "import numexpr # ditto\n",
    "import numpy as np\n",
    "import pandas as pd\n",
    "import seaborn as sns\n",
    "import matplotlib.pyplot as plt\n",
    "from IPython.display import clear_output\n",
    "\n",
    "# Mining / EDA / dimensionality reduction\n",
    "from sklearn.preprocessing import StandardScaler, LabelEncoder\n",
    "from sklearn.decomposition import PCA\n",
    "from sklearn.grid_search import GridSearchCV\n",
    "from sklearn.preprocessing import scale\n",
    "from scipy.spatial.distance import euclidean\n",
    "\n",
    "# Supervised learning\n",
    "from sklearn import metrics\n",
    "from sklearn.dummy import DummyClassifier\n",
    "from sklearn.feature_selection import VarianceThreshold\n",
    "from sklearn.cross_validation import train_test_split, cross_val_score, cross_val_predict\n",
    "from sklearn.discriminant_analysis import LinearDiscriminantAnalysis\n",
    "from sklearn.linear_model import LogisticRegression\n",
    "from sklearn.neighbors import KNeighborsClassifier\n",
    "\n",
    "# Unsupervised learning\n",
    "from sklearn.cluster import DBSCAN, KMeans\n",
    "from sklearn.manifold import TSNE\n",
    "from sklearn.metrics.pairwise import pairwise_distances\n",
    "from matplotlib.colors import ListedColormap"
   ]
  },
  {
   "cell_type": "markdown",
   "metadata": {},
   "source": [
    "# Data Loading\n",
    "Two CSV Files are given.\n",
    "1) Diabetic Data [1,01,766 rows] and\n",
    "2) Ids_Mapping [Supplementary information to look up and hot encoding on certain variables in the dataset]"
   ]
  },
  {
   "cell_type": "code",
   "execution_count": 132,
   "metadata": {},
   "outputs": [],
   "source": [
    "#Read the primary csv file\n",
    "dia_df = {} # Manage multiple datasets by keeping them all in a dictionary\n",
    "dia_df= pd.read_csv('E:\\\\Term 2\\\\Practicum\\\\dataset_diabetes\\\\diabetic_data.csv')\n",
    "# To allow comparison between datasets before and after modification\n",
    "dia_df1=dia_df.copy()\n",
    "#Reading the secondary csv file\n",
    "ids_mapping = pd.read_csv('E:\\\\Term 2\\\\Practicum\\\\dataset_diabetes\\\\IDs_mapping.csv') "
   ]
  },
  {
   "cell_type": "markdown",
   "metadata": {},
   "source": [
    "# Data Exploration and Cleaning"
   ]
  },
  {
   "cell_type": "code",
   "execution_count": 133,
   "metadata": {},
   "outputs": [
    {
     "name": "stdout",
     "output_type": "stream",
     "text": [
      "<class 'pandas.core.frame.DataFrame'>\n",
      "RangeIndex: 101766 entries, 0 to 101765\n",
      "Data columns (total 50 columns):\n",
      "encounter_id                101766 non-null int64\n",
      "patient_nbr                 101766 non-null int64\n",
      "race                        101766 non-null object\n",
      "gender                      101766 non-null object\n",
      "age                         101766 non-null object\n",
      "weight                      101766 non-null object\n",
      "admission_type_id           101766 non-null int64\n",
      "discharge_disposition_id    101766 non-null int64\n",
      "admission_source_id         101766 non-null int64\n",
      "time_in_hospital            101766 non-null int64\n",
      "payer_code                  101766 non-null object\n",
      "medical_specialty           101766 non-null object\n",
      "num_lab_procedures          101766 non-null int64\n",
      "num_procedures              101766 non-null int64\n",
      "num_medications             101766 non-null int64\n",
      "number_outpatient           101766 non-null int64\n",
      "number_emergency            101766 non-null int64\n",
      "number_inpatient            101766 non-null int64\n",
      "diag_1                      101766 non-null object\n",
      "diag_2                      101766 non-null object\n",
      "diag_3                      101766 non-null object\n",
      "number_diagnoses            101766 non-null int64\n",
      "max_glu_serum               101766 non-null object\n",
      "A1Cresult                   101766 non-null object\n",
      "metformin                   101766 non-null object\n",
      "repaglinide                 101766 non-null object\n",
      "nateglinide                 101766 non-null object\n",
      "chlorpropamide              101766 non-null object\n",
      "glimepiride                 101766 non-null object\n",
      "acetohexamide               101766 non-null object\n",
      "glipizide                   101766 non-null object\n",
      "glyburide                   101766 non-null object\n",
      "tolbutamide                 101766 non-null object\n",
      "pioglitazone                101766 non-null object\n",
      "rosiglitazone               101766 non-null object\n",
      "acarbose                    101766 non-null object\n",
      "miglitol                    101766 non-null object\n",
      "troglitazone                101766 non-null object\n",
      "tolazamide                  101766 non-null object\n",
      "examide                     101766 non-null object\n",
      "citoglipton                 101766 non-null object\n",
      "insulin                     101766 non-null object\n",
      "glyburide-metformin         101766 non-null object\n",
      "glipizide-metformin         101766 non-null object\n",
      "glimepiride-pioglitazone    101766 non-null object\n",
      "metformin-rosiglitazone     101766 non-null object\n",
      "metformin-pioglitazone      101766 non-null object\n",
      "change                      101766 non-null object\n",
      "diabetesMed                 101766 non-null object\n",
      "readmitted                  101766 non-null object\n",
      "dtypes: int64(13), object(37)\n",
      "memory usage: 38.8+ MB\n"
     ]
    }
   ],
   "source": [
    "dia_df1.info()"
   ]
  },
  {
   "cell_type": "code",
   "execution_count": 134,
   "metadata": {},
   "outputs": [
    {
     "data": {
      "text/html": [
       "<div>\n",
       "<style scoped>\n",
       "    .dataframe tbody tr th:only-of-type {\n",
       "        vertical-align: middle;\n",
       "    }\n",
       "\n",
       "    .dataframe tbody tr th {\n",
       "        vertical-align: top;\n",
       "    }\n",
       "\n",
       "    .dataframe thead th {\n",
       "        text-align: right;\n",
       "    }\n",
       "</style>\n",
       "<table border=\"1\" class=\"dataframe\">\n",
       "  <thead>\n",
       "    <tr style=\"text-align: right;\">\n",
       "      <th></th>\n",
       "      <th>encounter_id</th>\n",
       "      <th>patient_nbr</th>\n",
       "      <th>race</th>\n",
       "      <th>gender</th>\n",
       "      <th>age</th>\n",
       "      <th>weight</th>\n",
       "      <th>admission_type_id</th>\n",
       "      <th>discharge_disposition_id</th>\n",
       "      <th>admission_source_id</th>\n",
       "      <th>time_in_hospital</th>\n",
       "      <th>...</th>\n",
       "      <th>citoglipton</th>\n",
       "      <th>insulin</th>\n",
       "      <th>glyburide-metformin</th>\n",
       "      <th>glipizide-metformin</th>\n",
       "      <th>glimepiride-pioglitazone</th>\n",
       "      <th>metformin-rosiglitazone</th>\n",
       "      <th>metformin-pioglitazone</th>\n",
       "      <th>change</th>\n",
       "      <th>diabetesMed</th>\n",
       "      <th>readmitted</th>\n",
       "    </tr>\n",
       "  </thead>\n",
       "  <tbody>\n",
       "    <tr>\n",
       "      <th>0</th>\n",
       "      <td>2278392</td>\n",
       "      <td>8222157</td>\n",
       "      <td>Caucasian</td>\n",
       "      <td>Female</td>\n",
       "      <td>[0-10)</td>\n",
       "      <td>?</td>\n",
       "      <td>6</td>\n",
       "      <td>25</td>\n",
       "      <td>1</td>\n",
       "      <td>1</td>\n",
       "      <td>...</td>\n",
       "      <td>No</td>\n",
       "      <td>No</td>\n",
       "      <td>No</td>\n",
       "      <td>No</td>\n",
       "      <td>No</td>\n",
       "      <td>No</td>\n",
       "      <td>No</td>\n",
       "      <td>No</td>\n",
       "      <td>No</td>\n",
       "      <td>NO</td>\n",
       "    </tr>\n",
       "    <tr>\n",
       "      <th>1</th>\n",
       "      <td>149190</td>\n",
       "      <td>55629189</td>\n",
       "      <td>Caucasian</td>\n",
       "      <td>Female</td>\n",
       "      <td>[10-20)</td>\n",
       "      <td>?</td>\n",
       "      <td>1</td>\n",
       "      <td>1</td>\n",
       "      <td>7</td>\n",
       "      <td>3</td>\n",
       "      <td>...</td>\n",
       "      <td>No</td>\n",
       "      <td>Up</td>\n",
       "      <td>No</td>\n",
       "      <td>No</td>\n",
       "      <td>No</td>\n",
       "      <td>No</td>\n",
       "      <td>No</td>\n",
       "      <td>Ch</td>\n",
       "      <td>Yes</td>\n",
       "      <td>&gt;30</td>\n",
       "    </tr>\n",
       "    <tr>\n",
       "      <th>2</th>\n",
       "      <td>64410</td>\n",
       "      <td>86047875</td>\n",
       "      <td>AfricanAmerican</td>\n",
       "      <td>Female</td>\n",
       "      <td>[20-30)</td>\n",
       "      <td>?</td>\n",
       "      <td>1</td>\n",
       "      <td>1</td>\n",
       "      <td>7</td>\n",
       "      <td>2</td>\n",
       "      <td>...</td>\n",
       "      <td>No</td>\n",
       "      <td>No</td>\n",
       "      <td>No</td>\n",
       "      <td>No</td>\n",
       "      <td>No</td>\n",
       "      <td>No</td>\n",
       "      <td>No</td>\n",
       "      <td>No</td>\n",
       "      <td>Yes</td>\n",
       "      <td>NO</td>\n",
       "    </tr>\n",
       "    <tr>\n",
       "      <th>3</th>\n",
       "      <td>500364</td>\n",
       "      <td>82442376</td>\n",
       "      <td>Caucasian</td>\n",
       "      <td>Male</td>\n",
       "      <td>[30-40)</td>\n",
       "      <td>?</td>\n",
       "      <td>1</td>\n",
       "      <td>1</td>\n",
       "      <td>7</td>\n",
       "      <td>2</td>\n",
       "      <td>...</td>\n",
       "      <td>No</td>\n",
       "      <td>Up</td>\n",
       "      <td>No</td>\n",
       "      <td>No</td>\n",
       "      <td>No</td>\n",
       "      <td>No</td>\n",
       "      <td>No</td>\n",
       "      <td>Ch</td>\n",
       "      <td>Yes</td>\n",
       "      <td>NO</td>\n",
       "    </tr>\n",
       "    <tr>\n",
       "      <th>4</th>\n",
       "      <td>16680</td>\n",
       "      <td>42519267</td>\n",
       "      <td>Caucasian</td>\n",
       "      <td>Male</td>\n",
       "      <td>[40-50)</td>\n",
       "      <td>?</td>\n",
       "      <td>1</td>\n",
       "      <td>1</td>\n",
       "      <td>7</td>\n",
       "      <td>1</td>\n",
       "      <td>...</td>\n",
       "      <td>No</td>\n",
       "      <td>Steady</td>\n",
       "      <td>No</td>\n",
       "      <td>No</td>\n",
       "      <td>No</td>\n",
       "      <td>No</td>\n",
       "      <td>No</td>\n",
       "      <td>Ch</td>\n",
       "      <td>Yes</td>\n",
       "      <td>NO</td>\n",
       "    </tr>\n",
       "  </tbody>\n",
       "</table>\n",
       "<p>5 rows × 50 columns</p>\n",
       "</div>"
      ],
      "text/plain": [
       "   encounter_id  patient_nbr             race  gender      age weight  \\\n",
       "0       2278392      8222157        Caucasian  Female   [0-10)      ?   \n",
       "1        149190     55629189        Caucasian  Female  [10-20)      ?   \n",
       "2         64410     86047875  AfricanAmerican  Female  [20-30)      ?   \n",
       "3        500364     82442376        Caucasian    Male  [30-40)      ?   \n",
       "4         16680     42519267        Caucasian    Male  [40-50)      ?   \n",
       "\n",
       "   admission_type_id  discharge_disposition_id  admission_source_id  \\\n",
       "0                  6                        25                    1   \n",
       "1                  1                         1                    7   \n",
       "2                  1                         1                    7   \n",
       "3                  1                         1                    7   \n",
       "4                  1                         1                    7   \n",
       "\n",
       "   time_in_hospital    ...     citoglipton insulin  glyburide-metformin  \\\n",
       "0                 1    ...              No      No                   No   \n",
       "1                 3    ...              No      Up                   No   \n",
       "2                 2    ...              No      No                   No   \n",
       "3                 2    ...              No      Up                   No   \n",
       "4                 1    ...              No  Steady                   No   \n",
       "\n",
       "   glipizide-metformin  glimepiride-pioglitazone  metformin-rosiglitazone  \\\n",
       "0                   No                        No                       No   \n",
       "1                   No                        No                       No   \n",
       "2                   No                        No                       No   \n",
       "3                   No                        No                       No   \n",
       "4                   No                        No                       No   \n",
       "\n",
       "   metformin-pioglitazone  change diabetesMed readmitted  \n",
       "0                      No      No          No         NO  \n",
       "1                      No      Ch         Yes        >30  \n",
       "2                      No      No         Yes         NO  \n",
       "3                      No      Ch         Yes         NO  \n",
       "4                      No      Ch         Yes         NO  \n",
       "\n",
       "[5 rows x 50 columns]"
      ]
     },
     "execution_count": 134,
     "metadata": {},
     "output_type": "execute_result"
    }
   ],
   "source": [
    "#A first look at how the dataset looks like :\n",
    "dia_df1.head()"
   ]
  },
  {
   "cell_type": "code",
   "execution_count": 135,
   "metadata": {},
   "outputs": [
    {
     "data": {
      "text/plain": [
       "Text(0,0.5,'Count')"
      ]
     },
     "execution_count": 135,
     "metadata": {},
     "output_type": "execute_result"
    },
    {
     "data": {
      "image/png": "[encoded data removed]",
      "text/plain": [
       "<Figure size 432x288 with 1 Axes>"
      ]
     },
     "metadata": {
      "needs_background": "light"
     },
     "output_type": "display_data"
    }
   ],
   "source": [
    "# the response variable 'readmitted' in the original dataset contains three categories.\n",
    "# 11% of patients were readmitted within 30 days (<30)\n",
    "# 35% of patients were readmitted after 30 days (>30)\n",
    "# 54% of patients were never readmitted (NO)\n",
    "dia_df1.groupby('readmitted').size().plot(kind='bar')\n",
    "plt.ylabel('Count')"
   ]
  },
  {
   "cell_type": "code",
   "execution_count": 136,
   "metadata": {},
   "outputs": [
    {
     "data": {
      "text/plain": [
       "NO     54864\n",
       ">30    35545\n",
       "<30    11357\n",
       "Name: readmitted, dtype: int64"
      ]
     },
     "execution_count": 136,
     "metadata": {},
     "output_type": "execute_result"
    }
   ],
   "source": [
    "dia_df1['readmitted'].value_counts()"
   ]
  },
  {
   "cell_type": "code",
   "execution_count": 137,
   "metadata": {},
   "outputs": [
    {
     "name": "stdout",
     "output_type": "stream",
     "text": [
      "There are a total of 101766 hospital admissions recorded in the dataset.\n",
      "There are a total of 0 duplicated observations in the dataset.\n",
      "There are a total of 71518 patients admitted in the hospital\n",
      "There are 30248 observations coming from patients readmitted atleast once.\n"
     ]
    }
   ],
   "source": [
    "# Looking at the duplicated rows\n",
    "\n",
    "# The dataset has information the hospital records when a patient gets admitted in the hospital.[Through the encounter id] \n",
    "# It is very well possible that a patient [patient_nbr] can have multiple entires.\n",
    "# Dug deep into below 2 :\n",
    "# a) Count of patients who were readmitted [< 30 or >30] : This accounted to ~30% of the total observations.\n",
    "# b) Duplicated observation in the dataset : Added a new feature : 'No_Of_Encounters' specifying the no of admissions\n",
    "\n",
    "num_hospital_admissions = len(dia_df1['encounter_id'].unique())\n",
    "print('There are a total of {} hospital admissions recorded in the dataset.'.format(\n",
    "    num_hospital_admissions))\n",
    "\n",
    "dups_observations = dia_df1 .duplicated().sum()\n",
    "print('There are a total of {} duplicated observations in the dataset.'.format(\n",
    "    dups_observations))\n",
    "\n",
    "number_patients = len(dia_df1['patient_nbr'].unique())\n",
    "print('There are a total of {} patients admitted in the hospital'.format(number_patients))\n",
    "\n",
    "readmit_patients = dia_df1['patient_nbr'].duplicated().sum()\n",
    "print('There are {} observations coming from patients readmitted atleast once.'.format(\n",
    "    readmit_patients))\n",
    "\n",
    "dia_df1['No_of_Encounters'] = dia_df1 .groupby(\n",
    "    'patient_nbr')['encounter_id'].transform(\"count\")"
   ]
  },
  {
   "cell_type": "markdown",
   "metadata": {},
   "source": [
    "Before exploring more new features, dropped observations that don't add any value to the data analysis. \n",
    "Patients who expired or transferred to hospice are unlikely to get readmitted\n",
    "We then obtained the 'discharge_disposition_id' for each of them & dropped these rows."
   ]
  },
  {
   "cell_type": "code",
   "execution_count": 138,
   "metadata": {},
   "outputs": [],
   "source": [
    "dia_df1 = dia_df1 [~dia_df1['discharge_disposition_id'].isin([11, 13, 14 ,19, 20, 21])]\n",
    "# Reset the index\n",
    "dia_df1.reset_index(inplace=True)"
   ]
  },
  {
   "cell_type": "code",
   "execution_count": 139,
   "metadata": {},
   "outputs": [
    {
     "name": "stdout",
     "output_type": "stream",
     "text": [
      "race (2234, 2.25)\n",
      "gender (0, 0.0)\n",
      "age (0, 0.0)\n",
      "weight (96218, 96.85)\n",
      "payer_code (39398, 39.66)\n",
      "medical_specialty (48616, 48.94)\n",
      "diag_1 (20, 0.02)\n",
      "diag_2 (356, 0.36)\n",
      "diag_3 (1419, 1.43)\n",
      "max_glu_serum (0, 0.0)\n",
      "A1Cresult (0, 0.0)\n",
      "metformin (0, 0.0)\n",
      "repaglinide (0, 0.0)\n",
      "nateglinide (0, 0.0)\n",
      "chlorpropamide (0, 0.0)\n",
      "glimepiride (0, 0.0)\n",
      "acetohexamide (0, 0.0)\n",
      "glipizide (0, 0.0)\n",
      "glyburide (0, 0.0)\n",
      "tolbutamide (0, 0.0)\n",
      "pioglitazone (0, 0.0)\n",
      "rosiglitazone (0, 0.0)\n",
      "acarbose (0, 0.0)\n",
      "miglitol (0, 0.0)\n",
      "troglitazone (0, 0.0)\n",
      "tolazamide (0, 0.0)\n",
      "examide (0, 0.0)\n",
      "citoglipton (0, 0.0)\n",
      "insulin (0, 0.0)\n",
      "glyburide-metformin (0, 0.0)\n",
      "glipizide-metformin (0, 0.0)\n",
      "glimepiride-pioglitazone (0, 0.0)\n",
      "metformin-rosiglitazone (0, 0.0)\n",
      "metformin-pioglitazone (0, 0.0)\n",
      "change (0, 0.0)\n",
      "diabetesMed (0, 0.0)\n",
      "readmitted (0, 0.0)\n"
     ]
    }
   ],
   "source": [
    "# Summarizing the data for categorical and numeric variables & to explore them separately\n",
    "\n",
    "def subset_dia_df(dataframe, dtype_):\n",
    "    \"\"\"\n",
    "    Pass an object [dtype] as 2nd argument : if the dataframe with categorical features is needed.\n",
    "    Pass a number  [dtype] as 2nd argument : if the dataframe with numerical features is needed.\n",
    "    \"\"\"\n",
    "    if isinstance(dataframe, pd.DataFrame):\n",
    "        return dataframe.select_dtypes(include=dtype_)\n",
    "    \n",
    "cat_features_df = subset_dia_df(dia_df1, object)\n",
    "\n",
    "#Exploring the categorical variables here to find the ? in the data and missing values\n",
    "\n",
    "categorical_cols = cat_features_df.columns.tolist()\n",
    "\n",
    "for col in categorical_cols:\n",
    "    questionmark_character_count = cat_features_df[col][cat_features_df[col] == '?'].count()\n",
    "    percent_questionmark_characters = round(100 * questionmark_character_count/cat_features_df.shape[0], 2)\n",
    "    print(col, (questionmark_character_count, percent_questionmark_characters))\n",
    "        \n",
    "#There are no missing [blank] values in the dataframe but it has many '?' in it. \n",
    "#We summarized the '?' values in the dataframe as seen below for all the categorical variables"
   ]
  },
  {
   "cell_type": "markdown",
   "metadata": {},
   "source": [
    "# Observational Insights :\n",
    "\n",
    "# We dropped 'weight', 'payer_code' & 'medical_specialty' columns having > 1/3rd of the data with ?'s'\n",
    "\n",
    "# About ~ 3% of observations in the 'race' column have no information. We changed it to 'Unknown'\n",
    "\n",
    "# diag_1, diag_2, diag_3 are diagnostic columns. \n",
    "\n",
    "# We dropped any observations where values are missing in all three & replaced the remaining with 'Unknown'\n",
    "\n",
    "# Age column is an object datatype because we were provided with information as 10 year bins."
   ]
  },
  {
   "cell_type": "code",
   "execution_count": 140,
   "metadata": {},
   "outputs": [],
   "source": [
    "#Summarize the missing data [in percentage] in the above dataframe\n",
    "dia_df1= dia_df1.replace('?', np.NaN) \n",
    "#na_percentage = dia_df['Copy'] .isnull().sum()/len(dia_df['Copy'] )*100\n",
    "#na_percentage\n",
    "#We observe weight has 97% missing values followed by 40% for payer_code and 49% for medical_facility. \n",
    "#We go ahead and drop these columns in the futher cells"
   ]
  },
  {
   "cell_type": "code",
   "execution_count": 141,
   "metadata": {},
   "outputs": [
    {
     "data": {
      "text/plain": [
       "<matplotlib.axes._subplots.AxesSubplot at 0x25dbed69a90>"
      ]
     },
     "execution_count": 141,
     "metadata": {},
     "output_type": "execute_result"
    },
    {
     "data": {
      "image/png": "[encoded data removed]",
      "text/plain": [
       "<Figure size 1728x720 with 2 Axes>"
      ]
     },
     "metadata": {
      "needs_background": "light"
     },
     "output_type": "display_data"
    }
   ],
   "source": [
    "# PLot the missing value count on the chart below\n",
    "msno.bar(dia_df1)"
   ]
  },
  {
   "cell_type": "code",
   "execution_count": 142,
   "metadata": {},
   "outputs": [],
   "source": [
    "#Dropping the columnns[\"Weight,payer_code and medical_specialty\"] as they have a lot of missing values [> 1/3rd of the data]\n",
    "dia_df1 = dia_df1.drop('weight', axis=1)\n",
    "dia_df1 = dia_df1.drop('payer_code', axis=1)\n",
    "dia_df1 = dia_df1.drop('medical_specialty', axis=1)\n",
    "\n",
    "#Replace  ~3% of data points for race with Unknown\n",
    "dia_df1['race'].replace('?', 'Unknown')\n",
    "\n",
    "#Delete observations where diag_1, diag_2, diag_3 values are missing in all three & replaced the remaining with 'Unknown'\n",
    "dia_df1.drop(dia_df1[(dia_df1['diag_1'] == '?') & (dia_df1['diag_2'] == '?')\n",
    "               & (dia_df1['diag_3'] == '?')].index, inplace=True)"
   ]
  },
  {
   "cell_type": "code",
   "execution_count": 143,
   "metadata": {},
   "outputs": [],
   "source": [
    "#Summarizing categorical variables to understand drugs data\n",
    "\n",
    "def unique_values_categorical_features(dataframe):\n",
    "    assert isinstance(dataframe, pd.DataFrame)\n",
    "    df = dataframe.select_dtypes(include=object)\n",
    "    unique_dict = {}\n",
    "    for col in df.columns.tolist():\n",
    "        assert isinstance(dataframe[col], object)\n",
    "        unique_dict[col] = df[col].unique()\n",
    "    return unique_dict\n",
    "\n",
    "def value_counts_categorical_features(dataframe):\n",
    "    assert isinstance(dataframe, pd.DataFrame)\n",
    "    df = dataframe.select_dtypes(include=object)\n",
    "    value_counts_dict = {}\n",
    "    for col in df.columns.tolist():\n",
    "        assert isinstance(dataframe[col], object)\n",
    "        value_counts_dict[col] = df[col].value_counts()\n",
    "    return value_counts_dict"
   ]
  },
  {
   "cell_type": "code",
   "execution_count": 144,
   "metadata": {},
   "outputs": [
    {
     "name": "stdout",
     "output_type": "stream",
     "text": [
      "{'race': Caucasian          52292\n",
      "AfricanAmerican    12625\n",
      "Hispanic            1500\n",
      "Other               1150\n",
      "Asian                488\n",
      "Name: race, dtype: int64, 'gender': Female             37229\n",
      "Male               32741\n",
      "Unknown/Invalid        3\n",
      "Name: gender, dtype: int64, 'age': [70-80)     17750\n",
      "[60-70)     15684\n",
      "[50-60)     12349\n",
      "[80-90)     11102\n",
      "[40-50)      6828\n",
      "[30-40)      2692\n",
      "[90-100)     1760\n",
      "[20-30)      1121\n",
      "[10-20)       534\n",
      "[0-10)        153\n",
      "Name: age, dtype: int64, 'diag_1': 414      5209\n",
      "428      3876\n",
      "786      3040\n",
      "410      2774\n",
      "486      2362\n",
      "427      2019\n",
      "715      1907\n",
      "434      1514\n",
      "682      1463\n",
      "780      1409\n",
      "491      1313\n",
      "276      1180\n",
      "996      1106\n",
      "250.8    1074\n",
      "38        998\n",
      "599       975\n",
      "584       918\n",
      "820       815\n",
      "574       773\n",
      "435       752\n",
      "562       709\n",
      "577       682\n",
      "493       676\n",
      "722       660\n",
      "V57       654\n",
      "296       634\n",
      "250.6     631\n",
      "433       608\n",
      "440       607\n",
      "518       562\n",
      "         ... \n",
      "314         1\n",
      "365         1\n",
      "842         1\n",
      "471         1\n",
      "690         1\n",
      "366         1\n",
      "57          1\n",
      "207         1\n",
      "E909        1\n",
      "640         1\n",
      "832         1\n",
      "653         1\n",
      "75          1\n",
      "318         1\n",
      "217         1\n",
      "V43         1\n",
      "27          1\n",
      "904         1\n",
      "334         1\n",
      "870         1\n",
      "885         1\n",
      "381         1\n",
      "837         1\n",
      "684         1\n",
      "671         1\n",
      "V51         1\n",
      "216         1\n",
      "580         1\n",
      "229         1\n",
      "917         1\n",
      "Name: diag_1, Length: 694, dtype: int64, 'diag_2': 250       4996\n",
      "276       4494\n",
      "428       4218\n",
      "427       3445\n",
      "401       3077\n",
      "599       2210\n",
      "496       2188\n",
      "411       2034\n",
      "414       1977\n",
      "403       1576\n",
      "250.02    1542\n",
      "707       1183\n",
      "250.01    1120\n",
      "285       1108\n",
      "780       1022\n",
      "584       1004\n",
      "682        927\n",
      "585        908\n",
      "491        881\n",
      "425        868\n",
      "486        830\n",
      "424        813\n",
      "413        810\n",
      "518        765\n",
      "493        627\n",
      "250.6      584\n",
      "305        504\n",
      "786        480\n",
      "280        432\n",
      "998        429\n",
      "          ... \n",
      "186          1\n",
      "483          1\n",
      "173          1\n",
      "580          1\n",
      "871          1\n",
      "99           1\n",
      "987          1\n",
      "944          1\n",
      "734          1\n",
      "E826         1\n",
      "523          1\n",
      "366          1\n",
      "853          1\n",
      "955          1\n",
      "5            1\n",
      "V03          1\n",
      "192          1\n",
      "694          1\n",
      "114          1\n",
      "E883         1\n",
      "302          1\n",
      "V13          1\n",
      "E818         1\n",
      "E980         1\n",
      "E919         1\n",
      "145          1\n",
      "615          1\n",
      "256          1\n",
      "V25          1\n",
      "915          1\n",
      "Name: diag_2, Length: 723, dtype: int64, 'diag_3': 250       8980\n",
      "401       6549\n",
      "276       3302\n",
      "428       2753\n",
      "414       2646\n",
      "427       2590\n",
      "272       1630\n",
      "496       1594\n",
      "403       1258\n",
      "599       1240\n",
      "585        920\n",
      "780        901\n",
      "250.02     894\n",
      "V45        888\n",
      "285        840\n",
      "424        778\n",
      "707        766\n",
      "425        707\n",
      "305        704\n",
      "250.6      660\n",
      "250.01     638\n",
      "584        591\n",
      "278        559\n",
      "682        539\n",
      "518        519\n",
      "41         514\n",
      "493        504\n",
      "530        469\n",
      "244        411\n",
      "786        405\n",
      "          ... \n",
      "811          1\n",
      "669          1\n",
      "E894         1\n",
      "822          1\n",
      "755          1\n",
      "540          1\n",
      "308          1\n",
      "542          1\n",
      "971          1\n",
      "674          1\n",
      "152          1\n",
      "E854         1\n",
      "952          1\n",
      "250.31       1\n",
      "315          1\n",
      "314          1\n",
      "989          1\n",
      "115          1\n",
      "E815         1\n",
      "E945         1\n",
      "122          1\n",
      "158          1\n",
      "657          1\n",
      "E882         1\n",
      "972          1\n",
      "951          1\n",
      "E965         1\n",
      "66           1\n",
      "800          1\n",
      "E852         1\n",
      "Name: diag_3, Length: 756, dtype: int64, 'max_glu_serum': None    66625\n",
      "Norm     1700\n",
      ">200      936\n",
      ">300      712\n",
      "Name: max_glu_serum, dtype: int64, 'A1Cresult': None    57128\n",
      ">8       6239\n",
      "Norm     3741\n",
      ">7       2865\n",
      "Name: A1Cresult, dtype: int64, 'metformin': No        55070\n",
      "Steady    13634\n",
      "Up          834\n",
      "Down        435\n",
      "Name: metformin, dtype: int64, 'repaglinide': No        69056\n",
      "Steady      818\n",
      "Up           71\n",
      "Down         28\n",
      "Name: repaglinide, dtype: int64, 'nateglinide': No        69482\n",
      "Steady      467\n",
      "Up           16\n",
      "Down          8\n",
      "Name: nateglinide, dtype: int64, 'chlorpropamide': No        69902\n",
      "Steady       66\n",
      "Up            4\n",
      "Down          1\n",
      "Name: chlorpropamide, dtype: int64, 'glimepiride': No        66276\n",
      "Steady     3331\n",
      "Up          230\n",
      "Down        136\n",
      "Name: glimepiride, dtype: int64, 'acetohexamide': No        69972\n",
      "Steady        1\n",
      "Name: acetohexamide, dtype: int64, 'glipizide': No        60966\n",
      "Steady     8063\n",
      "Up          573\n",
      "Down        371\n",
      "Name: glipizide, dtype: int64, 'glyburide': No        62198\n",
      "Steady     6744\n",
      "Up          613\n",
      "Down        418\n",
      "Name: glyburide, dtype: int64, 'tolbutamide': No        69956\n",
      "Steady       17\n",
      "Name: tolbutamide, dtype: int64, 'pioglitazone': No        64710\n",
      "Steady     5004\n",
      "Up          178\n",
      "Down         81\n",
      "Name: pioglitazone, dtype: int64, 'rosiglitazone': No        65312\n",
      "Steady     4455\n",
      "Up          132\n",
      "Down         74\n",
      "Name: rosiglitazone, dtype: int64, 'acarbose': No        69773\n",
      "Steady      190\n",
      "Up           10\n",
      "Name: acarbose, dtype: int64, 'miglitol': No        69953\n",
      "Steady       18\n",
      "Down          1\n",
      "Up            1\n",
      "Name: miglitol, dtype: int64, 'troglitazone': No        69970\n",
      "Steady        3\n",
      "Name: troglitazone, dtype: int64, 'tolazamide': No        69943\n",
      "Steady       30\n",
      "Name: tolazamide, dtype: int64, 'examide': No    69973\n",
      "Name: examide, dtype: int64, 'citoglipton': No    69973\n",
      "Name: citoglipton, dtype: int64, 'insulin': No        34258\n",
      "Steady    21617\n",
      "Down       7321\n",
      "Up         6777\n",
      "Name: insulin, dtype: int64, 'glyburide-metformin': No        69477\n",
      "Steady      485\n",
      "Up            7\n",
      "Down          4\n",
      "Name: glyburide-metformin, dtype: int64, 'glipizide-metformin': No        69966\n",
      "Steady        7\n",
      "Name: glipizide-metformin, dtype: int64, 'glimepiride-pioglitazone': No    69973\n",
      "Name: glimepiride-pioglitazone, dtype: int64, 'metformin-rosiglitazone': No        69971\n",
      "Steady        2\n",
      "Name: metformin-rosiglitazone, dtype: int64, 'metformin-pioglitazone': No        69972\n",
      "Steady        1\n",
      "Name: metformin-pioglitazone, dtype: int64, 'change': No    38482\n",
      "Ch    31491\n",
      "Name: change, dtype: int64, 'diabetesMed': Yes    53293\n",
      "No     16680\n",
      "Name: diabetesMed, dtype: int64, 'readmitted': NO     41474\n",
      ">30    22222\n",
      "<30     6277\n",
      "Name: readmitted, dtype: int64}\n"
     ]
    }
   ],
   "source": [
    "print(value_counts_categorical_features(categorical_features_df))"
   ]
  },
  {
   "cell_type": "markdown",
   "metadata": {},
   "source": [
    "Few of the Drugs Columns as stated below have been removed.\n",
    "These have either only one value or more than one unique values but one of the values has insignificant frequency in the dataset\n",
    "\n",
    "For example, out of the total of 69973 observations :\n",
    "Tolazamide has only 1 value\n",
    "Examide has only 1 value\n",
    "Citoglipton has only 1 value\n",
    "Rosiglitazone has only 1 value\n",
    "Glipizide-Metformin has only 1 value\n",
    "Glimepiride - 2 values split in the ratio : (69772 : 1)\n",
    "Metformin-Rosiglitazone - 2 values split in the ratio : (69772 : 1)\n",
    "Glimepiride-Pioglitazone - 2 values split in the ratio : (69771 : 2)\n",
    "Troglitazone - 2 values split in the ratio : (69770 : 3)\n",
    "We drop these drugs columns next"
   ]
  },
  {
   "cell_type": "code",
   "execution_count": 145,
   "metadata": {},
   "outputs": [],
   "source": [
    "dia_df1.drop(['tolazamide', 'examide', 'citoglipton', 'rosiglitazone', 'glipizide-metformin', 'glimepiride', \n",
    "              'metformin-rosiglitazone', 'glimepiride-pioglitazone', 'troglitazone'], axis=1, inplace=True)"
   ]
  },
  {
   "cell_type": "code",
   "execution_count": 146,
   "metadata": {},
   "outputs": [],
   "source": [
    "#Removing columns which are redundant\n",
    "#We already see a lot of columns already which show about the diabetes medications\n",
    "dia_df1.drop('diabetesMed', axis=1, inplace=True)"
   ]
  },
  {
   "cell_type": "markdown",
   "metadata": {},
   "source": [
    "What have we done so far in Data Preparation stage , summarized below :\n",
    "a) Remove 29 features in total: \n",
    "   7 features as below related to numeric data: \n",
    "  'encounter_id', 'patient_nbr', 'payer_code', 'weight', 'medical_specialty', 'diag_2', 'diag_3', and \n",
    "   22 features for data related to medications :\n",
    "'metformin', 'repaglinide', 'nateglinide', 'chlorpropamide', 'glimepiride', 'acetohexamide', 'glipizide', 'glyburide',    'tolbutamide', 'pioglitazone', 'rosiglitazone', 'acarbose', 'miglitol', 'troglitazone', 'tolazamide', 'examide', 'citoglipton', 'glyburide-metformin', 'glipizide-metformin', 'glimepiride-pioglitazone', 'metformin-rosiglitazone', and 'metformin-pioglitazone'\n",
    "b) Remove NA in 'race', 'gender', 'diag_1', 'diag_2', and 'diag_3'\n",
    "c) Age column is an object datatype because we were provided with information as 10 year bins\n",
    "d) Recategorize 'age' feature\n",
    "e) Reduce levels in 'discharge_disposition_id', 'admission_source_id', and 'admission_type_id'\n",
    "f) One-hot-encode on categorical data\n",
    "g) Square root transform on right skewed count data\n",
    "h) Apply feature standardizing on numerical data"
   ]
  },
  {
   "cell_type": "markdown",
   "metadata": {},
   "source": [
    "# Numerical Variables"
   ]
  },
  {
   "cell_type": "code",
   "execution_count": 147,
   "metadata": {},
   "outputs": [
    {
     "data": {
      "text/plain": [
       "['index',\n",
       " 'encounter_id',\n",
       " 'patient_nbr',\n",
       " 'admission_type_id',\n",
       " 'discharge_disposition_id',\n",
       " 'admission_source_id',\n",
       " 'time_in_hospital',\n",
       " 'num_lab_procedures',\n",
       " 'num_procedures',\n",
       " 'num_medications',\n",
       " 'number_outpatient',\n",
       " 'number_emergency',\n",
       " 'number_inpatient',\n",
       " 'number_diagnoses',\n",
       " 'No_of_Encounters']"
      ]
     },
     "execution_count": 147,
     "metadata": {},
     "output_type": "execute_result"
    }
   ],
   "source": [
    "# Subset the numerical columns\n",
    "numerical_features_df = subset_dia_df(dia_df1, 'number')\n",
    "numerical_features_df.columns.tolist()"
   ]
  },
  {
   "cell_type": "markdown",
   "metadata": {},
   "source": [
    "# EDA on the numerical Data"
   ]
  },
  {
   "cell_type": "code",
   "execution_count": 148,
   "metadata": {},
   "outputs": [
    {
     "data": {
      "text/plain": [
       "<matplotlib.axes._subplots.AxesSubplot at 0x25dba6f3588>"
      ]
     },
     "execution_count": 148,
     "metadata": {},
     "output_type": "execute_result"
    },
    {
     "data": {
      "image/png": "[encoded data removed]",
      "text/plain": [
       "<Figure size 432x288 with 1 Axes>"
      ]
     },
     "metadata": {
      "needs_background": "light"
     },
     "output_type": "display_data"
    }
   ],
   "source": [
    "sns.distplot(numerical_features_df['time_in_hospital'], color=\"blue\")"
   ]
  },
  {
   "cell_type": "code",
   "execution_count": 166,
   "metadata": {},
   "outputs": [
    {
     "data": {
      "text/plain": [
       "Text(0,0.5,'Count')"
      ]
     },
     "execution_count": 166,
     "metadata": {},
     "output_type": "execute_result"
    },
    {
     "data": {
      "image/png": "[encoded data removed]",
      "text/plain": [
       "<Figure size 432x288 with 1 Axes>"
      ]
     },
     "metadata": {
      "needs_background": "light"
     },
     "output_type": "display_data"
    }
   ],
   "source": [
    "# check 'age' feature\n",
    "dia_df1.groupby('age').size().plot(kind='bar')\n",
    "plt.ylabel('Count')"
   ]
  },
  {
   "cell_type": "code",
   "execution_count": 167,
   "metadata": {},
   "outputs": [
    {
     "data": {
      "text/plain": [
       "Text(0,0.5,'Count')"
      ]
     },
     "execution_count": 167,
     "metadata": {},
     "output_type": "execute_result"
    },
    {
     "data": {
      "image/png": "[encoded data removed]",
      "text/plain": [
       "<Figure size 432x288 with 1 Axes>"
      ]
     },
     "metadata": {
      "needs_background": "light"
     },
     "output_type": "display_data"
    }
   ],
   "source": [
    "# Recategorize 'age' so that the population is more evenly distributed\n",
    "dia_df['age'] = pd.Series(['[0-50)' if val in ['[0-10)', '[10-20)', '[20-30)', '[30-40)', '[40-50)'] else val \n",
    "                         for val in dia_df['age']], index=dia_df.index)\n",
    "dia_df['age'] = pd.Series(['[80-100)' if val in ['[80-90)', '[90-100)'] else val \n",
    "                         for val in dia_df['age']], index=dia_df.index)\n",
    "\n",
    "dia_df.groupby('age').size().plot(kind='bar')\n",
    "plt.ylabel('Count')"
   ]
  },
  {
   "cell_type": "code",
   "execution_count": 149,
   "metadata": {},
   "outputs": [
    {
     "data": {
      "text/plain": [
       "<matplotlib.axes._subplots.AxesSubplot at 0x25dba598fd0>"
      ]
     },
     "execution_count": 149,
     "metadata": {},
     "output_type": "execute_result"
    },
    {
     "data": {
      "image/png": "[encoded data removed]",
      "text/plain": [
       "<Figure size 432x288 with 1 Axes>"
      ]
     },
     "metadata": {
      "needs_background": "light"
     },
     "output_type": "display_data"
    }
   ],
   "source": [
    "sns.distplot(numerical_features_df['number_diagnoses'], color=\"red\")"
   ]
  },
  {
   "cell_type": "code",
   "execution_count": 150,
   "metadata": {},
   "outputs": [
    {
     "data": {
      "text/plain": [
       "<matplotlib.axes._subplots.AxesSubplot at 0x25dbefcebe0>"
      ]
     },
     "execution_count": 150,
     "metadata": {},
     "output_type": "execute_result"
    },
    {
     "data": {
      "image/png": "[encoded data removed]",
      "text/plain": [
       "<Figure size 432x288 with 1 Axes>"
      ]
     },
     "metadata": {
      "needs_background": "light"
     },
     "output_type": "display_data"
    }
   ],
   "source": [
    "sns.distplot(numerical_features_df['num_lab_procedures'], color=\"green\")"
   ]
  },
  {
   "cell_type": "markdown",
   "metadata": {},
   "source": [
    "# Log Transformations"
   ]
  },
  {
   "cell_type": "code",
   "execution_count": 151,
   "metadata": {},
   "outputs": [
    {
     "data": {
      "text/plain": [
       "<matplotlib.axes._subplots.AxesSubplot at 0x25dbc927fd0>"
      ]
     },
     "execution_count": 151,
     "metadata": {},
     "output_type": "execute_result"
    },
    {
     "data": {
      "image/png": "[encoded data removed]",
      "text/plain": [
       "<Figure size 432x288 with 1 Axes>"
      ]
     },
     "metadata": {
      "needs_background": "light"
     },
     "output_type": "display_data"
    }
   ],
   "source": [
    "sns.distplot(numerical_features_df['num_medications'], color=\"red\")"
   ]
  },
  {
   "cell_type": "code",
   "execution_count": 152,
   "metadata": {},
   "outputs": [
    {
     "data": {
      "text/plain": [
       "<matplotlib.axes._subplots.AxesSubplot at 0x25db3da6f28>"
      ]
     },
     "execution_count": 152,
     "metadata": {},
     "output_type": "execute_result"
    },
    {
     "data": {
      "image/png": "[encoded data removed]",
      "text/plain": [
       "<Figure size 432x288 with 1 Axes>"
      ]
     },
     "metadata": {
      "needs_background": "light"
     },
     "output_type": "display_data"
    }
   ],
   "source": [
    "dia_df1['num_medications_log'] = np.log(dia_df1['num_medications'])\n",
    "sns.distplot(dia_df1['num_medications_log'], color=\"red\")"
   ]
  },
  {
   "cell_type": "code",
   "execution_count": 153,
   "metadata": {},
   "outputs": [
    {
     "data": {
      "text/plain": [
       "<matplotlib.axes._subplots.AxesSubplot at 0x25dc3106320>"
      ]
     },
     "execution_count": 153,
     "metadata": {},
     "output_type": "execute_result"
    },
    {
     "data": {
      "image/png": "[encoded data removed]",
      "text/plain": [
       "<Figure size 1080x360 with 3 Axes>"
      ]
     },
     "metadata": {
      "needs_background": "light"
     },
     "output_type": "display_data"
    }
   ],
   "source": [
    "# Understanding the distribution of no of visits [ Inpatients, Outpatients and Emergency]\n",
    "fig, ax = plt.subplots(figsize=(15, 5), ncols=3)\n",
    "\n",
    "\n",
    "ax[0].set_title(\"No. of Inpatient Visits\",  y=y_title_margin)\n",
    "ax[1].set_title(\"No. of Emergency Visits\",   y=y_title_margin)\n",
    "ax[2].set_title(\"No. of Outpatient Visits\",   y=y_title_margin)\n",
    "\n",
    "sns.distplot(dia_df1[\"number_inpatient\"], kde=False, ax=ax[0])\n",
    "sns.distplot(dia_df1[\"number_emergency\"],  kde=False, ax=ax[1])\n",
    "sns.distplot(dia_df1[\"number_outpatient\"],  kde=False, ax=ax[2])"
   ]
  },
  {
   "cell_type": "code",
   "execution_count": 154,
   "metadata": {},
   "outputs": [
    {
     "data": {
      "text/plain": [
       "<matplotlib.axes._subplots.AxesSubplot at 0x25db75f67b8>"
      ]
     },
     "execution_count": 154,
     "metadata": {},
     "output_type": "execute_result"
    },
    {
     "data": {
      "image/png": "[encoded data removed]",
      "text/plain": [
       "<Figure size 1080x360 with 3 Axes>"
      ]
     },
     "metadata": {
      "needs_background": "light"
     },
     "output_type": "display_data"
    }
   ],
   "source": [
    "dia_df1['Log_Tranform_Inpatient'] = np.log1p(dia_df1['number_inpatient'])\n",
    "dia_df1['Log_Tranform_Emergency'] = np.log1p(dia_df1['number_emergency'])\n",
    "dia_df1['Log_Tranform_Outpatient'] = np.log1p(dia_df1['number_outpatient'])\n",
    "fig, ax = plt.subplots(figsize=(15, 5), ncols=3)\n",
    "\n",
    "\n",
    "ax[0].set_title(\"Log_Tranform_Inpatient_Visits\",  y=y_title_margin)\n",
    "ax[1].set_title(\"Log_Tranform_Emergency_Visits\",   y=y_title_margin)\n",
    "ax[2].set_title(\"Log_Tranform_Outpatient_Visits\",   y=y_title_margin)\n",
    "\n",
    "sns.distplot(dia_df1[\"Log_Tranform_Inpatient\"], kde=False, ax=ax[0])\n",
    "sns.distplot(dia_df1[\"Log_Tranform_Emergency\"],  kde=False, ax=ax[1])\n",
    "sns.distplot(dia_df1[\"Log_Tranform_Outpatient\"],  kde=False, ax=ax[2])\n"
   ]
  },
  {
   "cell_type": "markdown",
   "metadata": {},
   "source": [
    "# Understanding the Target Variable\n",
    "There are three classes in the target variable.\n",
    "Class 1: NO - patients not readmitted,\n",
    "Class 2: <30 - readmitted <30 days after discharge\n",
    "Class 3: >30 - readmitted >30 days after discharge\n",
    "Since we are interested in predicting readmission :  we will assign 1 to these observations and 0 to all other observations."
   ]
  },
  {
   "cell_type": "code",
   "execution_count": 155,
   "metadata": {},
   "outputs": [
    {
     "data": {
      "text/html": [
       "<div>\n",
       "<style scoped>\n",
       "    .dataframe tbody tr th:only-of-type {\n",
       "        vertical-align: middle;\n",
       "    }\n",
       "\n",
       "    .dataframe tbody tr th {\n",
       "        vertical-align: top;\n",
       "    }\n",
       "\n",
       "    .dataframe thead th {\n",
       "        text-align: right;\n",
       "    }\n",
       "</style>\n",
       "<table border=\"1\" class=\"dataframe\">\n",
       "  <thead>\n",
       "    <tr style=\"text-align: right;\">\n",
       "      <th></th>\n",
       "      <th>index</th>\n",
       "      <th>encounter_id</th>\n",
       "      <th>patient_nbr</th>\n",
       "      <th>race</th>\n",
       "      <th>gender</th>\n",
       "      <th>age</th>\n",
       "      <th>admission_type_id</th>\n",
       "      <th>discharge_disposition_id</th>\n",
       "      <th>admission_source_id</th>\n",
       "      <th>time_in_hospital</th>\n",
       "      <th>...</th>\n",
       "      <th>insulin</th>\n",
       "      <th>glyburide-metformin</th>\n",
       "      <th>metformin-pioglitazone</th>\n",
       "      <th>change</th>\n",
       "      <th>readmitted</th>\n",
       "      <th>No_of_Encounters</th>\n",
       "      <th>num_medications_log</th>\n",
       "      <th>Log_Tranform_Inpatient</th>\n",
       "      <th>Log_Tranform_Emergency</th>\n",
       "      <th>Log_Tranform_Outpatient</th>\n",
       "    </tr>\n",
       "  </thead>\n",
       "  <tbody>\n",
       "    <tr>\n",
       "      <th>0</th>\n",
       "      <td>0</td>\n",
       "      <td>2278392</td>\n",
       "      <td>8222157</td>\n",
       "      <td>Caucasian</td>\n",
       "      <td>Female</td>\n",
       "      <td>[0-10)</td>\n",
       "      <td>6</td>\n",
       "      <td>25</td>\n",
       "      <td>1</td>\n",
       "      <td>1</td>\n",
       "      <td>...</td>\n",
       "      <td>No</td>\n",
       "      <td>No</td>\n",
       "      <td>No</td>\n",
       "      <td>No</td>\n",
       "      <td>0</td>\n",
       "      <td>1</td>\n",
       "      <td>0.000000</td>\n",
       "      <td>0.000000</td>\n",
       "      <td>0.0</td>\n",
       "      <td>0.000000</td>\n",
       "    </tr>\n",
       "    <tr>\n",
       "      <th>1</th>\n",
       "      <td>1</td>\n",
       "      <td>149190</td>\n",
       "      <td>55629189</td>\n",
       "      <td>Caucasian</td>\n",
       "      <td>Female</td>\n",
       "      <td>[10-20)</td>\n",
       "      <td>1</td>\n",
       "      <td>1</td>\n",
       "      <td>7</td>\n",
       "      <td>3</td>\n",
       "      <td>...</td>\n",
       "      <td>Up</td>\n",
       "      <td>No</td>\n",
       "      <td>No</td>\n",
       "      <td>Ch</td>\n",
       "      <td>1</td>\n",
       "      <td>1</td>\n",
       "      <td>2.890372</td>\n",
       "      <td>0.000000</td>\n",
       "      <td>0.0</td>\n",
       "      <td>0.000000</td>\n",
       "    </tr>\n",
       "    <tr>\n",
       "      <th>2</th>\n",
       "      <td>2</td>\n",
       "      <td>64410</td>\n",
       "      <td>86047875</td>\n",
       "      <td>AfricanAmerican</td>\n",
       "      <td>Female</td>\n",
       "      <td>[20-30)</td>\n",
       "      <td>1</td>\n",
       "      <td>1</td>\n",
       "      <td>7</td>\n",
       "      <td>2</td>\n",
       "      <td>...</td>\n",
       "      <td>No</td>\n",
       "      <td>No</td>\n",
       "      <td>No</td>\n",
       "      <td>No</td>\n",
       "      <td>0</td>\n",
       "      <td>1</td>\n",
       "      <td>2.564949</td>\n",
       "      <td>0.693147</td>\n",
       "      <td>0.0</td>\n",
       "      <td>1.098612</td>\n",
       "    </tr>\n",
       "    <tr>\n",
       "      <th>3</th>\n",
       "      <td>3</td>\n",
       "      <td>500364</td>\n",
       "      <td>82442376</td>\n",
       "      <td>Caucasian</td>\n",
       "      <td>Male</td>\n",
       "      <td>[30-40)</td>\n",
       "      <td>1</td>\n",
       "      <td>1</td>\n",
       "      <td>7</td>\n",
       "      <td>2</td>\n",
       "      <td>...</td>\n",
       "      <td>Up</td>\n",
       "      <td>No</td>\n",
       "      <td>No</td>\n",
       "      <td>Ch</td>\n",
       "      <td>0</td>\n",
       "      <td>1</td>\n",
       "      <td>2.772589</td>\n",
       "      <td>0.000000</td>\n",
       "      <td>0.0</td>\n",
       "      <td>0.000000</td>\n",
       "    </tr>\n",
       "    <tr>\n",
       "      <th>4</th>\n",
       "      <td>4</td>\n",
       "      <td>16680</td>\n",
       "      <td>42519267</td>\n",
       "      <td>Caucasian</td>\n",
       "      <td>Male</td>\n",
       "      <td>[40-50)</td>\n",
       "      <td>1</td>\n",
       "      <td>1</td>\n",
       "      <td>7</td>\n",
       "      <td>1</td>\n",
       "      <td>...</td>\n",
       "      <td>Steady</td>\n",
       "      <td>No</td>\n",
       "      <td>No</td>\n",
       "      <td>Ch</td>\n",
       "      <td>0</td>\n",
       "      <td>1</td>\n",
       "      <td>2.079442</td>\n",
       "      <td>0.000000</td>\n",
       "      <td>0.0</td>\n",
       "      <td>0.000000</td>\n",
       "    </tr>\n",
       "  </tbody>\n",
       "</table>\n",
       "<p>5 rows × 43 columns</p>\n",
       "</div>"
      ],
      "text/plain": [
       "   index  encounter_id  patient_nbr             race  gender      age  \\\n",
       "0      0       2278392      8222157        Caucasian  Female   [0-10)   \n",
       "1      1        149190     55629189        Caucasian  Female  [10-20)   \n",
       "2      2         64410     86047875  AfricanAmerican  Female  [20-30)   \n",
       "3      3        500364     82442376        Caucasian    Male  [30-40)   \n",
       "4      4         16680     42519267        Caucasian    Male  [40-50)   \n",
       "\n",
       "   admission_type_id  discharge_disposition_id  admission_source_id  \\\n",
       "0                  6                        25                    1   \n",
       "1                  1                         1                    7   \n",
       "2                  1                         1                    7   \n",
       "3                  1                         1                    7   \n",
       "4                  1                         1                    7   \n",
       "\n",
       "   time_in_hospital           ...             insulin  glyburide-metformin  \\\n",
       "0                 1           ...                  No                   No   \n",
       "1                 3           ...                  Up                   No   \n",
       "2                 2           ...                  No                   No   \n",
       "3                 2           ...                  Up                   No   \n",
       "4                 1           ...              Steady                   No   \n",
       "\n",
       "   metformin-pioglitazone  change  readmitted  No_of_Encounters  \\\n",
       "0                      No      No           0                 1   \n",
       "1                      No      Ch           1                 1   \n",
       "2                      No      No           0                 1   \n",
       "3                      No      Ch           0                 1   \n",
       "4                      No      Ch           0                 1   \n",
       "\n",
       "  num_medications_log Log_Tranform_Inpatient Log_Tranform_Emergency  \\\n",
       "0            0.000000               0.000000                    0.0   \n",
       "1            2.890372               0.000000                    0.0   \n",
       "2            2.564949               0.693147                    0.0   \n",
       "3            2.772589               0.000000                    0.0   \n",
       "4            2.079442               0.000000                    0.0   \n",
       "\n",
       "   Log_Tranform_Outpatient  \n",
       "0                 0.000000  \n",
       "1                 0.000000  \n",
       "2                 1.098612  \n",
       "3                 0.000000  \n",
       "4                 0.000000  \n",
       "\n",
       "[5 rows x 43 columns]"
      ]
     },
     "execution_count": 155,
     "metadata": {},
     "output_type": "execute_result"
    }
   ],
   "source": [
    "# Recode and Reegroup the response variable to apply logistic regression model\n",
    "# '0' means no readmission\n",
    "# '1' means readmission no matter how many days after being discharged [<30 or >30]\n",
    "dia_df1['readmitted'] = pd.Series([0 if val == 'NO' else 1 for val in dia_df1['readmitted']])\n",
    "dia_df1.head()"
   ]
  },
  {
   "cell_type": "code",
   "execution_count": 156,
   "metadata": {},
   "outputs": [
    {
     "data": {
      "text/plain": [
       "0    52527\n",
       "1    46816\n",
       "Name: readmitted, dtype: int64"
      ]
     },
     "execution_count": 156,
     "metadata": {},
     "output_type": "execute_result"
    }
   ],
   "source": [
    "dia_df1['readmitted'].value_counts()"
   ]
  },
  {
   "cell_type": "markdown",
   "metadata": {},
   "source": [
    "# Data Modeling"
   ]
  },
  {
   "cell_type": "code",
   "execution_count": 158,
   "metadata": {},
   "outputs": [],
   "source": [
    "import sklearn\n",
    "from sklearn.utils import shuffle\n",
    "from sklearn.model_selection import train_test_split\n",
    "from sklearn.model_selection import GridSearchCV, RandomizedSearchCV\n",
    "\n",
    "from sklearn.linear_model import LogisticRegression\n",
    "from sklearn.svm import LinearSVC\n",
    "from sklearn.calibration import CalibratedClassifierCV\n",
    "\n",
    "from sklearn.metrics import classification_report, confusion_matrix, accuracy_score\n",
    "from sklearn.metrics import precision_score, recall_score, roc_auc_score, roc_curve, auc\n",
    "import pickle\n",
    "\n",
    "from sklearn.preprocessing import StandardScaler"
   ]
  },
  {
   "cell_type": "code",
   "execution_count": 160,
   "metadata": {},
   "outputs": [
    {
     "name": "stdout",
     "output_type": "stream",
     "text": [
      "(99343,)\n",
      "(99343, 42)\n"
     ]
    }
   ],
   "source": [
    "dia_df2 = shuffle(dia_df1)\n",
    "# Define X, y\n",
    "y = dia_df2['readmitted']\n",
    "print(y.shape)\n",
    "X = dia_df2.drop('readmitted', axis=1)\n",
    "print(X.shape)"
   ]
  },
  {
   "cell_type": "code",
   "execution_count": 161,
   "metadata": {},
   "outputs": [
    {
     "name": "stdout",
     "output_type": "stream",
     "text": [
      "0.4712561529247154\n"
     ]
    }
   ],
   "source": [
    "#We see the prevalance is 47% , meaning 47 % of the observations belong to the class we are interested in.\n",
    "def class_prevalence(label):\n",
    "    return (sum(label)/len(label))\n",
    "print(class_prevalence(y))"
   ]
  },
  {
   "cell_type": "markdown",
   "metadata": {},
   "source": [
    "# Splitting the data to Train/Test/Validate"
   ]
  },
  {
   "cell_type": "code",
   "execution_count": 168,
   "metadata": {},
   "outputs": [],
   "source": [
    "Y = dia_df1['readmitted']\n",
    "X = dia_df1.drop(['readmitted'], axis =1)\n",
    "X = pd.get_dummies(X)"
   ]
  },
  {
   "cell_type": "code",
   "execution_count": 171,
   "metadata": {},
   "outputs": [
    {
     "name": "stdout",
     "output_type": "stream",
     "text": [
      "shape of Xtrain,Xtest: (79474, 2345) (19869, 2345)\n"
     ]
    }
   ],
   "source": [
    "#Splitting the data into training and vallidation data sets. \n",
    "#The training data will contain 80 % of the data and validation will contain remaining 20%\n",
    "Xtrain, Xtest, Ytrain, Ytest = train_test_split(X, Y, test_size = .2, \n",
    "                                                random_state = 7, stratify = Y)\n",
    "print(\"shape of Xtrain,Xtest:\",Xtrain.shape,Xtest.shape)"
   ]
  },
  {
   "cell_type": "code",
   "execution_count": 172,
   "metadata": {},
   "outputs": [],
   "source": [
    "# create model logistic as logistic regression using Sklearn \n",
    "from sklearn.linear_model import LogisticRegression\n",
    "logisticreg = LogisticRegression(tol=1e-7, penalty='l2', C=0.0005)\n",
    "logisticreg.fit(Xtrain, Ytrain)\n",
    "Ylog = logisticreg.predict(Xtest)"
   ]
  },
  {
   "cell_type": "code",
   "execution_count": 173,
   "metadata": {},
   "outputs": [
    {
     "name": "stdout",
     "output_type": "stream",
     "text": [
      " The accuracy of the Logistic regression model: 0.5683728421158589\n"
     ]
    }
   ],
   "source": [
    "# Checking the accuracy of the model \n",
    "print(\" The accuracy of the Logistic regression model:\" ,logisticreg.score(Xtest, Ytest))"
   ]
  },
  {
   "cell_type": "code",
   "execution_count": 174,
   "metadata": {},
   "outputs": [
    {
     "name": "stdout",
     "output_type": "stream",
     "text": [
      "[[7395 3111]\n",
      " [5465 3898]]\n"
     ]
    }
   ],
   "source": [
    "# checking the confusion matrix\n",
    "print(confusion_matrix(Ytest, Ylog))"
   ]
  },
  {
   "cell_type": "code",
   "execution_count": 175,
   "metadata": {},
   "outputs": [
    {
     "data": {
      "image/png": "[encoded data removed]",
      "text/plain": [
       "<Figure size 648x648 with 2 Axes>"
      ]
     },
     "metadata": {
      "needs_background": "light"
     },
     "output_type": "display_data"
    }
   ],
   "source": [
    "plt.figure(figsize=(9,9))\n",
    "sns.heatmap(confusion_matrix(Ytest, Ylog), annot=True, fmt=\".3f\", linewidths=.5, square = True, cmap = 'Blues_r');\n",
    "plt.ylabel('Actual label');\n",
    "plt.xlabel('Predicted label');\n",
    "all_sample_title = 'Accuracy Score: {0}'.format(logisticreg.score(Xtest, Ytest))\n",
    "plt.title(all_sample_title, size = 15);"
   ]
  },
  {
   "cell_type": "code",
   "execution_count": 176,
   "metadata": {},
   "outputs": [
    {
     "name": "stdout",
     "output_type": "stream",
     "text": [
      "             precision    recall  f1-score   support\n",
      "\n",
      "         NO       0.58      0.70      0.63     10506\n",
      "        YES       0.56      0.42      0.48      9363\n",
      "\n",
      "avg / total       0.57      0.57      0.56     19869\n",
      "\n"
     ]
    }
   ],
   "source": [
    "\n",
    "# Checking the summary of classification\n",
    "from sklearn.metrics import classification_report\n",
    "print(classification_report(Ytest, Ylog, target_names = ['NO', 'YES']))"
   ]
  },
  {
   "cell_type": "code",
   "execution_count": 177,
   "metadata": {},
   "outputs": [],
   "source": [
    "# Checking the performance of model using ROC curve plots\n",
    "YScre = logisticreg.decision_function(Xtest)"
   ]
  },
  {
   "cell_type": "code",
   "execution_count": 178,
   "metadata": {},
   "outputs": [
    {
     "data": {
      "image/png": "[encoded data removed]",
      "text/plain": [
       "<Figure size 432x288 with 1 Axes>"
      ]
     },
     "metadata": {
      "needs_background": "light"
     },
     "output_type": "display_data"
    }
   ],
   "source": [
    "##Computing false and true positive rates\n",
    "from sklearn.metrics import roc_curve\n",
    "\n",
    "fpr, tpr,_=roc_curve(logisticreg.predict(Xtrain),Ytrain,drop_intermediate=False)\n",
    "\n",
    "import matplotlib.pyplot as plt\n",
    "plt.figure()\n",
    "##Creating the ROC,\n",
    "plt.plot(fpr, tpr, color='blue',\n",
    " lw=2, label='ROC curve')\n",
    "##Finding FPR and TPR,\n",
    "plt.plot([0, 1], [0, 1], color='red', lw=2, linestyle='--')\n",
    "##Splecifying the label and title,\n",
    "plt.xlabel('False Positive Rate')\n",
    "plt.ylabel('True Positive Rate')\n",
    "plt.title('ROC curve')\n",
    "plt.show()"
   ]
  }
 ],
 "metadata": {
  "kernelspec": {
   "display_name": "Python 3",
   "language": "python",
   "name": "python3"
  },
  "language_info": {
   "codemirror_mode": {
    "name": "ipython",
    "version": 3
   },
   "file_extension": ".py",
   "mimetype": "text/x-python",
   "name": "python",
   "nbconvert_exporter": "python",
   "pygments_lexer": "ipython3",
   "version": "3.7.4"
  }
 },
 "nbformat": 4,
 "nbformat_minor": 2
}
